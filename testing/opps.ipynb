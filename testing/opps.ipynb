{
 "cells": [
  {
   "cell_type": "markdown",
   "metadata": {},
   "source": [
    "# Testing jar file\n",
    "- Call server several times to see what happens"
   ]
  },
  {
   "cell_type": "code",
   "execution_count": 5,
   "metadata": {},
   "outputs": [
    {
     "name": "stdout",
     "output_type": "stream",
     "text": [
      "1000\n"
     ]
    }
   ],
   "source": [
    "# Testing the server with a simple script - next step is to test with real files\n",
    "import requests\n",
    "\n",
    "results = []\n",
    "\n",
    "for _ in range(1000):\n",
    "    try:\n",
    "        response = requests.get(\"http://localhost:8080/openapi.json\")\n",
    "        data = response.json()\n",
    "        results.append(data)\n",
    "    except Exception as e:\n",
    "        print(e)\n",
    "    \n",
    "print(len(results))\n",
    "# print(results)"
   ]
  }
 ],
 "metadata": {
  "kernelspec": {
   "display_name": "base",
   "language": "python",
   "name": "python3"
  },
  "language_info": {
   "codemirror_mode": {
    "name": "ipython",
    "version": 3
   },
   "file_extension": ".py",
   "mimetype": "text/x-python",
   "name": "python",
   "nbconvert_exporter": "python",
   "pygments_lexer": "ipython3",
   "version": "3.11.5"
  }
 },
 "nbformat": 4,
 "nbformat_minor": 2
}
