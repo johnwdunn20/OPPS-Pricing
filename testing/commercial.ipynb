{
 "cells": [
  {
   "cell_type": "code",
   "execution_count": 12,
   "metadata": {},
   "outputs": [],
   "source": [
    "patient1 = {\n",
    "    \"id\": 1,\n",
    "    \"charges\": [\n",
    "        {\"date\": \"2020-01-01\", \"rev_code\": \"123\", \"hcpcs\": \"J1234\", \"amount\": 100},\n",
    "        {\"date\": \"2020-01-01\", \"rev_code\": \"123\", \"hcpcs\": \"C1234\", \"amount\": 100},\n",
    "        {\"date\": \"2020-01-01\", \"rev_code\": \"123\", \"hcpcs\": \"Q1234\", \"amount\": 100},\n",
    "    ],\n",
    "}"
   ]
  },
  {
   "cell_type": "code",
   "execution_count": 13,
   "metadata": {},
   "outputs": [],
   "source": [
    "rates = [\n",
    "    {\"name\": \"J Codes\", \"hcpcs\": \"J1234\", \"rate\": 0.5},\n",
    "    {\"name\": \"C Codes\", \"hcpcs\": \"C1234\", \"rate\": 0.4},\n",
    "    {\"name\": \"Q Codes\", \"hcpcs\": \"Q1234\", \"rate\": 0.3},\n",
    "]"
   ]
  },
  {
   "cell_type": "code",
   "execution_count": 14,
   "metadata": {},
   "outputs": [
    {
     "data": {
      "text/html": [
       "<div>\n",
       "<style scoped>\n",
       "    .dataframe tbody tr th:only-of-type {\n",
       "        vertical-align: middle;\n",
       "    }\n",
       "\n",
       "    .dataframe tbody tr th {\n",
       "        vertical-align: top;\n",
       "    }\n",
       "\n",
       "    .dataframe thead th {\n",
       "        text-align: right;\n",
       "    }\n",
       "</style>\n",
       "<table border=\"1\" class=\"dataframe\">\n",
       "  <thead>\n",
       "    <tr style=\"text-align: right;\">\n",
       "      <th></th>\n",
       "      <th>date</th>\n",
       "      <th>rev_code</th>\n",
       "      <th>hcpcs</th>\n",
       "      <th>amount</th>\n",
       "      <th>name</th>\n",
       "      <th>rate</th>\n",
       "    </tr>\n",
       "  </thead>\n",
       "  <tbody>\n",
       "    <tr>\n",
       "      <th>0</th>\n",
       "      <td>2020-01-01</td>\n",
       "      <td>123</td>\n",
       "      <td>J1234</td>\n",
       "      <td>100</td>\n",
       "      <td>J Codes</td>\n",
       "      <td>0.5</td>\n",
       "    </tr>\n",
       "    <tr>\n",
       "      <th>1</th>\n",
       "      <td>2020-01-01</td>\n",
       "      <td>123</td>\n",
       "      <td>C1234</td>\n",
       "      <td>100</td>\n",
       "      <td>C Codes</td>\n",
       "      <td>0.4</td>\n",
       "    </tr>\n",
       "    <tr>\n",
       "      <th>2</th>\n",
       "      <td>2020-01-01</td>\n",
       "      <td>123</td>\n",
       "      <td>Q1234</td>\n",
       "      <td>100</td>\n",
       "      <td>Q Codes</td>\n",
       "      <td>0.3</td>\n",
       "    </tr>\n",
       "  </tbody>\n",
       "</table>\n",
       "</div>"
      ],
      "text/plain": [
       "         date rev_code  hcpcs  amount     name  rate\n",
       "0  2020-01-01      123  J1234     100  J Codes   0.5\n",
       "1  2020-01-01      123  C1234     100  C Codes   0.4\n",
       "2  2020-01-01      123  Q1234     100  Q Codes   0.3"
      ]
     },
     "execution_count": 14,
     "metadata": {},
     "output_type": "execute_result"
    }
   ],
   "source": [
    "# create dataframes\n",
    "import pandas as pd\n",
    "\n",
    "patient1_df = pd.DataFrame(patient1['charges'])\n",
    "rates_df = pd.DataFrame(rates)\n",
    "\n",
    "# Perform inner join on hcpcs field\n",
    "join_df = patient1_df.merge(rates_df, on='hcpcs') # inner join (joinType default is 'inner')\n",
    "\n",
    "join_df\n"
   ]
  }
 ],
 "metadata": {
  "kernelspec": {
   "display_name": "base",
   "language": "python",
   "name": "python3"
  },
  "language_info": {
   "codemirror_mode": {
    "name": "ipython",
    "version": 3
   },
   "file_extension": ".py",
   "mimetype": "text/x-python",
   "name": "python",
   "nbconvert_exporter": "python",
   "pygments_lexer": "ipython3",
   "version": "3.11.5"
  }
 },
 "nbformat": 4,
 "nbformat_minor": 2
}
